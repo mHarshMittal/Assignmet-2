{
 "cells": [
  {
   "cell_type": "markdown",
   "id": "6245b5db-0595-4cd8-828d-a082549ba4ad",
   "metadata": {},
   "source": [
    "#ASSIGNMENT 2"
   ]
  },
  {
   "cell_type": "markdown",
   "id": "dbc31110-3824-4521-b888-cf7404c8bb7e",
   "metadata": {},
   "source": [
    "Q1. Create a python program to sort the given list of tuples based on integer value using a \n",
    "lambda function"
   ]
  },
  {
   "cell_type": "code",
   "execution_count": 2,
   "id": "4c12131a-2f34-43e7-93f7-4fdacf73fa72",
   "metadata": {},
   "outputs": [
    {
     "name": "stdout",
     "output_type": "stream",
     "text": [
      "('Virat Kohli', 24936)\n",
      "('Jack Kallis', 25534)\n",
      "('Ricky Ponting', 27483)\n",
      "('Sachin Tendulkar', 34357)\n"
     ]
    }
   ],
   "source": [
    "data = [('Sachin Tendulkar', 34357), ('Ricky Ponting', 27483), ('Jack Kallis', 25534), ('Virat Kohli', 24936)]\n",
    "sorted_data = sorted(data, key=lambda x: x[1])\n",
    "for item in sorted_data:\n",
    "    print(item)"
   ]
  },
  {
   "cell_type": "markdown",
   "id": "399c4084-b4a9-4cfb-b412-c284e485ffbb",
   "metadata": {},
   "source": [
    "Q2. Write a Python Program to find the squares of all the numbers in the given list of integers using \n",
    "lambda and map functions.\n",
    "\n",
    "\n",
    "[1, 2, 3, 4, 5, 6, 7, 8, 9, 10]"
   ]
  },
  {
   "cell_type": "code",
   "execution_count": 3,
   "id": "21f35ca6-6e89-4bac-851c-67d1783062fb",
   "metadata": {},
   "outputs": [
    {
     "name": "stdout",
     "output_type": "stream",
     "text": [
      "[1, 4, 9, 16, 25, 36, 49, 64, 81, 100]\n"
     ]
    }
   ],
   "source": [
    "numbers = [1, 2, 3, 4, 5, 6, 7, 8, 9, 10]\n",
    "\n",
    "# Use lambda and map functions to find squares\n",
    "squares = list(map(lambda x: x**2, numbers))\n",
    "\n",
    "# Display the squares\n",
    "print(squares)"
   ]
  },
  {
   "cell_type": "markdown",
   "id": "038a506f-62de-4376-9a50-c836c78b2695",
   "metadata": {},
   "source": [
    "Q3. Write a python program to convert the given list of integers into a tuple of strings. Use map and \n",
    "lambda functions\n",
    "\n",
    "\n",
    "Given String: [1, 2, 3, 4, 5, 6, 7, 8, 9, 10]"
   ]
  },
  {
   "cell_type": "code",
   "execution_count": 5,
   "id": "81d8b7a5-afce-4b7c-8ea3-ef6961fce6f0",
   "metadata": {},
   "outputs": [
    {
     "name": "stdout",
     "output_type": "stream",
     "text": [
      "('1', '2', '3', '4', '5', '6', '7', '8', '9', '10')\n"
     ]
    }
   ],
   "source": [
    "numbers = [1, 2, 3, 4, 5, 6, 7, 8, 9, 10]\n",
    "\n",
    "# Use lambda and map functions to convert integers to strings\n",
    "strings = tuple(map(lambda x: str(x), numbers))\n",
    "\n",
    "# Display the tuple of strings\n",
    "print(strings)"
   ]
  },
  {
   "cell_type": "markdown",
   "id": "493b5de1-e0a9-4c1e-9f91-a5fc9e5eac90",
   "metadata": {},
   "source": [
    "Q4.  Write a python program using reduce function to compute the product of a list containing numbers \n",
    "from 1 to 25"
   ]
  },
  {
   "cell_type": "code",
   "execution_count": 6,
   "id": "83032f9f-6bb2-48ec-ab78-6c5c555c2996",
   "metadata": {},
   "outputs": [
    {
     "name": "stdout",
     "output_type": "stream",
     "text": [
      "15511210043330985984000000\n"
     ]
    }
   ],
   "source": [
    "from functools import reduce\n",
    "\n",
    "# Create a list containing numbers from 1 to 25\n",
    "numbers = list(range(1, 26))\n",
    "\n",
    "# Use reduce function to compute the product of the numbers\n",
    "product = reduce(lambda x, y: x * y, numbers)\n",
    "\n",
    "# Display the product\n",
    "print(product)\n"
   ]
  },
  {
   "cell_type": "markdown",
   "id": "561868e8-93ae-44eb-80b2-3913202f55b0",
   "metadata": {},
   "source": [
    "Q5. Write a python program to filter the numbers in a given list that are divisible by 2 and 3 using the \n",
    "filter function.\n",
    "\n",
    "\n",
    "[2, 3, 6, 9, 27, 60, 90, 120, 55, 46"
   ]
  },
  {
   "cell_type": "code",
   "execution_count": 7,
   "id": "c3517256-addf-46ee-af9e-428aeee0050e",
   "metadata": {},
   "outputs": [
    {
     "name": "stdout",
     "output_type": "stream",
     "text": [
      "Numbers divisible by 2: [2, 6, 60, 90, 120, 46]\n",
      "Numbers divisible by 3: [3, 6, 9, 27, 60, 90, 120]\n"
     ]
    }
   ],
   "source": [
    "# Given list of numbers\n",
    "numbers = [2, 3, 6, 9, 27, 60, 90, 120, 55, 46]\n",
    "\n",
    "# Filter numbers divisible by 2\n",
    "divisible_by_2 = list(filter(lambda x: x % 2 == 0, numbers))\n",
    "\n",
    "# Filter numbers divisible by 3\n",
    "divisible_by_3 = list(filter(lambda x: x % 3 == 0, numbers))\n",
    "\n",
    "# Display the filtered numbers\n",
    "print(\"Numbers divisible by 2:\", divisible_by_2)\n",
    "print(\"Numbers divisible by 3:\", divisible_by_3)\n"
   ]
  },
  {
   "cell_type": "markdown",
   "id": "89796142-84ac-4cfd-882e-db8c6c01e664",
   "metadata": {},
   "source": [
    "Q6. Write a python program to find palindromes in the given list of strings using lambda and filter \n",
    "function.\n",
    "\n",
    "\n",
    "['python', 'php', 'aba', 'radar', 'level']"
   ]
  },
  {
   "cell_type": "code",
   "execution_count": 8,
   "id": "fa0e4fb7-5992-4513-aeeb-3bbd6b3c6e19",
   "metadata": {},
   "outputs": [
    {
     "name": "stdout",
     "output_type": "stream",
     "text": [
      "['php', 'aba', 'radar', 'level']\n"
     ]
    }
   ],
   "source": [
    "# Given list of strings\n",
    "strings = ['python', 'php', 'aba', 'radar', 'level']\n",
    "\n",
    "# Use lambda and filter functions to find palindromes\n",
    "palindromes = list(filter(lambda x: x == x[::-1], strings))\n",
    "\n",
    "# Display the palindromes\n",
    "print(palindromes)\n"
   ]
  },
  {
   "cell_type": "code",
   "execution_count": null,
   "id": "8faa70bd-0ea6-4b05-999d-a1b3cf4e0e4e",
   "metadata": {},
   "outputs": [],
   "source": []
  }
 ],
 "metadata": {
  "kernelspec": {
   "display_name": "Python 3 (ipykernel)",
   "language": "python",
   "name": "python3"
  },
  "language_info": {
   "codemirror_mode": {
    "name": "ipython",
    "version": 3
   },
   "file_extension": ".py",
   "mimetype": "text/x-python",
   "name": "python",
   "nbconvert_exporter": "python",
   "pygments_lexer": "ipython3",
   "version": "3.10.8"
  }
 },
 "nbformat": 4,
 "nbformat_minor": 5
}
